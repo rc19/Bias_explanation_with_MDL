{
 "cells": [
  {
   "cell_type": "code",
   "execution_count": 2,
   "metadata": {},
   "outputs": [],
   "source": [
    "import numpy as\tnp"
   ]
  },
  {
   "cell_type": "code",
   "execution_count": 1,
   "metadata": {},
   "outputs": [],
   "source": [
    "input_file = '../data/INLP_data/glove.42B.300d.txt'\n",
    "embeddings_file = input_file[:-4] + '.wv.npy'\n",
    "vocabulary_file = input_file[:-4] + '.vocab'\n",
    "words = []\n",
    "vectors = []"
   ]
  },
  {
   "cell_type": "code",
   "execution_count": 3,
   "metadata": {},
   "outputs": [],
   "source": [
    "with open(input_file, 'r') as f:\n",
    "    for line in f:\n",
    "        fields = line.split()\n",
    "        if len(fields) == 2:\n",
    "            print(fields)\n",
    "            continue\n",
    "        word = fields[0]\n",
    "        vector = np.fromiter((float(x) for x in fields[1:]),\n",
    "                             dtype=np.float)\n",
    "        words.append(word)\n",
    "        vectors.append(vector)\n",
    "\n",
    "matrix = np.array(vectors)\n",
    "np.save(embeddings_file, matrix)\n",
    "text = '\\n'.join(words)\n",
    "with open(vocabulary_file, 'w') as f:\n",
    "    f.write(text)"
   ]
  },
  {
   "cell_type": "code",
   "execution_count": null,
   "metadata": {},
   "outputs": [],
   "source": []
  }
 ],
 "metadata": {
  "kernelspec": {
   "display_name": "Python 3",
   "language": "python",
   "name": "python3"
  },
  "language_info": {
   "codemirror_mode": {
    "name": "ipython",
    "version": 3
   },
   "file_extension": ".py",
   "mimetype": "text/x-python",
   "name": "python",
   "nbconvert_exporter": "python",
   "pygments_lexer": "ipython3",
   "version": "3.6.9"
  }
 },
 "nbformat": 4,
 "nbformat_minor": 4
}
